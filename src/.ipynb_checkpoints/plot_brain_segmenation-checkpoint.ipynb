{
 "cells": [
  {
   "cell_type": "code",
   "execution_count": 47,
   "metadata": {},
   "outputs": [],
   "source": [
    "from nilearn import plotting\n",
    "import metric_util as mt\n",
    "import mri_draw_utils as mrd\n",
    "import os\n",
    "import matplotlib.pyplot as plt\n",
    "%matplotlib inline"
   ]
  },
  {
   "cell_type": "code",
   "execution_count": 108,
   "metadata": {},
   "outputs": [],
   "source": [
    "path = \"/apps/git/python/tt-str/src/results/mu_left_vs_right_button_press.nii\""
   ]
  },
  {
   "cell_type": "code",
   "execution_count": 109,
   "metadata": {},
   "outputs": [],
   "source": [
    "ward_parcel_img = mt.read_image_abs_path(path)"
   ]
  },
  {
   "cell_type": "code",
   "execution_count": 53,
   "metadata": {},
   "outputs": [],
   "source": [
    "def save_fig_pdf(fig_id, tight_layout=True):\n",
    "    path = os.path.join(fig_id + \".pdf\")\n",
    "    print(\"Saving figure\", path)\n",
    "    print(\"Called from mrd\")\n",
    "    plt.savefig(path, format='pdf', dpi=300)\n",
    "    plt.close()"
   ]
  },
  {
   "cell_type": "code",
   "execution_count": 110,
   "metadata": {},
   "outputs": [
    {
     "name": "stdout",
     "output_type": "stream",
     "text": [
      "<class 'nibabel.nifti1.Nifti1Image'>\n",
      "data shape (53, 63, 46)\n",
      "affine: \n",
      "[[  -3.    0.    0.   78.]\n",
      " [   0.    3.    0. -111.]\n",
      " [   0.    0.    3.  -51.]\n",
      " [   0.    0.    0.    1.]]\n",
      "metadata:\n",
      "<class 'nibabel.nifti1.Nifti1Header'> object, endian='<'\n",
      "sizeof_hdr      : 348\n",
      "data_type       : \n",
      "db_name         : \n",
      "extents         : 0\n",
      "session_error   : 0\n",
      "regular         : \n",
      "dim_info        : 0\n",
      "dim             : [ 3 53 63 46  1  1  1  1]\n",
      "intent_p1       : 0.0\n",
      "intent_p2       : 0.0\n",
      "intent_p3       : 0.0\n",
      "intent_code     : none\n",
      "datatype        : float64\n",
      "bitpix          : 64\n",
      "slice_start     : 0\n",
      "pixdim          : [-1.  3.  3.  3.  1.  1.  1.  1.]\n",
      "vox_offset      : 0.0\n",
      "scl_slope       : nan\n",
      "scl_inter       : nan\n",
      "slice_end       : 0\n",
      "slice_code      : unknown\n",
      "xyzt_units      : 0\n",
      "cal_max         : 0.0\n",
      "cal_min         : 0.0\n",
      "slice_duration  : 0.0\n",
      "toffset         : 0.0\n",
      "glmax           : 0\n",
      "glmin           : 0\n",
      "descrip         : \n",
      "aux_file        : \n",
      "qform_code      : unknown\n",
      "sform_code      : aligned\n",
      "quatern_b       : 0.0\n",
      "quatern_c       : 1.0\n",
      "quatern_d       : 0.0\n",
      "qoffset_x       : 78.0\n",
      "qoffset_y       : -111.0\n",
      "qoffset_z       : -51.0\n",
      "srow_x          : [-3.  0.  0. 78.]\n",
      "srow_y          : [   0.    3.    0. -111.]\n",
      "srow_z          : [  0.   0.   3. -51.]\n",
      "intent_name     : \n",
      "magic           : n+1\n"
     ]
    }
   ],
   "source": [
    "print ward_parcel_img"
   ]
  },
  {
   "cell_type": "code",
   "execution_count": 48,
   "metadata": {},
   "outputs": [],
   "source": []
  },
  {
   "cell_type": "code",
   "execution_count": 111,
   "metadata": {},
   "outputs": [],
   "source": [
    "plotting.plot_roi(ward_parcel_img,title='', annotate=False, display_mode='z', cut_coords=1, bg_img=None, output_file=\"/apps/img/parcellation/mu_parcellation.pdf\")"
   ]
  },
  {
   "cell_type": "code",
   "execution_count": 50,
   "metadata": {},
   "outputs": [
    {
     "name": "stdout",
     "output_type": "stream",
     "text": [
      "('Saving figure', '/apps/img/parcellation/ward_parcellation.pdf')\n",
      "Called from mrd\n"
     ]
    }
   ],
   "source": []
  },
  {
   "cell_type": "code",
   "execution_count": 55,
   "metadata": {},
   "outputs": [
    {
     "name": "stdout",
     "output_type": "stream",
     "text": [
      "{100: -66255115.5550779, 70: -65038628.22902675, 40: -65135207.70084612, 10: -67262461.25474128, 300: -62781945.75578095, 400: -63635209.57310431, 200: -64562055.30102826, 50: -67142627.96965888, 20: -67250633.39187172, 1000: -60473183.09725274, 150: -65486467.736005746, 500: -63721086.24882686, 700: -62983794.53455777, 30: -66454929.56271345}\n"
     ]
    }
   ],
   "source": [
    "import pickle\n",
    "import pandas as pd\n",
    "\n",
    "ll_cv_ward = pickle.load( open(\"/apps/git/python/tt-str/src/results/ll_cv_ward.pck\", \"rb\" ) )\n",
    "ll_cv_ward_path = \"/apps/git/python/tt-str/src/results/ll_cv_ward.pck\"\n",
    "ll_cv_ward_df = pd.read_pickle(ll_cv_ward_path)\n",
    "print ll_cv_ward_df"
   ]
  },
  {
   "cell_type": "code",
   "execution_count": 106,
   "metadata": {},
   "outputs": [],
   "source": [
    "df = pd.DataFrame()"
   ]
  },
  {
   "cell_type": "code",
   "execution_count": 92,
   "metadata": {},
   "outputs": [],
   "source": [
    "temp_df = pd.DataFrame(col_names)\n",
    "df_list = []"
   ]
  },
  {
   "cell_type": "code",
   "execution_count": 107,
   "metadata": {},
   "outputs": [
    {
     "name": "stdout",
     "output_type": "stream",
     "text": [
      "100 -66255115.5550779\n",
      "70 -65038628.22902675\n",
      "40 -65135207.70084612\n",
      "10 -67262461.25474128\n",
      "300 -62781945.75578095\n",
      "400 -63635209.57310431\n",
      "200 -64562055.30102826\n",
      "50 -67142627.96965888\n",
      "20 -67250633.39187172\n",
      "1000 -60473183.09725274\n",
      "150 -65486467.736005746\n",
      "500 -63721086.24882686\n",
      "700 -62983794.53455777\n",
      "30 -66454929.56271345\n",
      "         k         ll_cv\n",
      "0    100.0 -6.625512e+07\n",
      "1     70.0 -6.503863e+07\n",
      "2     40.0 -6.513521e+07\n",
      "3     10.0 -6.726246e+07\n",
      "4    300.0 -6.278195e+07\n",
      "5    400.0 -6.363521e+07\n",
      "6    200.0 -6.456206e+07\n",
      "7     50.0 -6.714263e+07\n",
      "8     20.0 -6.725063e+07\n",
      "9   1000.0 -6.047318e+07\n",
      "10   150.0 -6.548647e+07\n",
      "11   500.0 -6.372109e+07\n",
      "12   700.0 -6.298379e+07\n",
      "13    30.0 -6.645493e+07\n"
     ]
    }
   ],
   "source": [
    "for key, value in ll_cv_ward.items():\n",
    "    print key, value\n",
    "    df = df.append({'k': key, 'll_cv':value}, ignore_index=True)\n",
    "print df"
   ]
  },
  {
   "cell_type": "code",
   "execution_count": 101,
   "metadata": {},
   "outputs": [
    {
     "name": "stdout",
     "output_type": "stream",
     "text": [
      "        0       k         ll_cv\n",
      "0       k     NaN           NaN\n",
      "1   ll_cv     NaN           NaN\n",
      "2     NaN   100.0 -6.625512e+07\n",
      "3     NaN    70.0 -6.503863e+07\n",
      "4     NaN    40.0 -6.513521e+07\n",
      "5     NaN    10.0 -6.726246e+07\n",
      "6     NaN   300.0 -6.278195e+07\n",
      "7     NaN   400.0 -6.363521e+07\n",
      "8     NaN   200.0 -6.456206e+07\n",
      "9     NaN    50.0 -6.714263e+07\n",
      "10    NaN    20.0 -6.725063e+07\n",
      "11    NaN  1000.0 -6.047318e+07\n",
      "12    NaN   150.0 -6.548647e+07\n",
      "13    NaN   500.0 -6.372109e+07\n",
      "14    NaN   700.0 -6.298379e+07\n",
      "15    NaN    30.0 -6.645493e+07\n"
     ]
    }
   ],
   "source": [
    "print df"
   ]
  },
  {
   "cell_type": "code",
   "execution_count": 94,
   "metadata": {},
   "outputs": [
    {
     "name": "stdout",
     "output_type": "stream",
     "text": [
      "       0   k         ll_cv\n",
      "0      k  30 -6.645493e+07\n",
      "1  ll_cv  30 -6.645493e+07\n",
      "0      k  30 -6.645493e+07\n",
      "1  ll_cv  30 -6.645493e+07\n",
      "0      k  30 -6.645493e+07\n",
      "1  ll_cv  30 -6.645493e+07\n",
      "0      k  30 -6.645493e+07\n",
      "1  ll_cv  30 -6.645493e+07\n",
      "0      k  30 -6.645493e+07\n",
      "1  ll_cv  30 -6.645493e+07\n",
      "0      k  30 -6.645493e+07\n",
      "1  ll_cv  30 -6.645493e+07\n",
      "0      k  30 -6.645493e+07\n",
      "1  ll_cv  30 -6.645493e+07\n",
      "0      k  30 -6.645493e+07\n",
      "1  ll_cv  30 -6.645493e+07\n",
      "0      k  30 -6.645493e+07\n",
      "1  ll_cv  30 -6.645493e+07\n",
      "0      k  30 -6.645493e+07\n",
      "1  ll_cv  30 -6.645493e+07\n",
      "0      k  30 -6.645493e+07\n",
      "1  ll_cv  30 -6.645493e+07\n",
      "0      k  30 -6.645493e+07\n",
      "1  ll_cv  30 -6.645493e+07\n",
      "0      k  30 -6.645493e+07\n",
      "1  ll_cv  30 -6.645493e+07\n",
      "0      k  30 -6.645493e+07\n",
      "1  ll_cv  30 -6.645493e+07\n"
     ]
    }
   ],
   "source": [
    "print(final_df)"
   ]
  },
  {
   "cell_type": "code",
   "execution_count": 105,
   "metadata": {},
   "outputs": [
    {
     "data": {
      "text/html": [
       "<div>\n",
       "<style scoped>\n",
       "    .dataframe tbody tr th:only-of-type {\n",
       "        vertical-align: middle;\n",
       "    }\n",
       "\n",
       "    .dataframe tbody tr th {\n",
       "        vertical-align: top;\n",
       "    }\n",
       "\n",
       "    .dataframe thead th {\n",
       "        text-align: right;\n",
       "    }\n",
       "</style>\n",
       "<table border=\"1\" class=\"dataframe\">\n",
       "  <thead>\n",
       "    <tr style=\"text-align: right;\">\n",
       "      <th></th>\n",
       "      <th>0</th>\n",
       "    </tr>\n",
       "  </thead>\n",
       "  <tbody>\n",
       "    <tr>\n",
       "      <th>0</th>\n",
       "      <td>k</td>\n",
       "    </tr>\n",
       "    <tr>\n",
       "      <th>1</th>\n",
       "      <td>ll_cv</td>\n",
       "    </tr>\n",
       "  </tbody>\n",
       "</table>\n",
       "</div>"
      ],
      "text/plain": [
       "       0\n",
       "0      k\n",
       "1  ll_cv"
      ]
     },
     "execution_count": 105,
     "metadata": {},
     "output_type": "execute_result"
    }
   ],
   "source": [
    "df"
   ]
  },
  {
   "cell_type": "code",
   "execution_count": null,
   "metadata": {},
   "outputs": [],
   "source": []
  }
 ],
 "metadata": {
  "kernelspec": {
   "display_name": "Python 2",
   "language": "python",
   "name": "python2"
  },
  "language_info": {
   "codemirror_mode": {
    "name": "ipython",
    "version": 2
   },
   "file_extension": ".py",
   "mimetype": "text/x-python",
   "name": "python",
   "nbconvert_exporter": "python",
   "pygments_lexer": "ipython2",
   "version": "2.7.13"
  }
 },
 "nbformat": 4,
 "nbformat_minor": 2
}
