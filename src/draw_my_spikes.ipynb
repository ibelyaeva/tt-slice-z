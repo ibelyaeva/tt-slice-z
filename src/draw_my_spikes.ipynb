{
 "cells": [
  {
   "cell_type": "code",
   "execution_count": 1,
   "metadata": {},
   "outputs": [
    {
     "ename": "SyntaxError",
     "evalue": "non-keyword arg after keyword arg (mri_draw_utils.py, line 964)",
     "output_type": "error",
     "traceback": [
      "\u001b[0;36m  File \u001b[0;32m\"mri_draw_utils.py\"\u001b[0;36m, line \u001b[0;32m964\u001b[0m\n\u001b[0;31m    fig.text(0.5, 0.9, color =fg_color, \"TEST\", fontsize = 'large', ha='center', va='center')\u001b[0m\n\u001b[0;31mSyntaxError\u001b[0m\u001b[0;31m:\u001b[0m non-keyword arg after keyword arg\n"
     ]
    }
   ],
   "source": [
    "import numpy as np\n",
    "import tensorflow as tf\n",
    "import t3f\n",
    "tf.set_random_seed(0)\n",
    "np.random.seed(0)\n",
    "%matplotlib inline\n",
    "import matplotlib.pyplot as plt\n",
    "import metric_util as mt\n",
    "import data_util as du\n",
    "from t3f import shapes\n",
    "from nilearn import image\n",
    "import nibabel as nib\n",
    "import math\n",
    "from math import sqrt\n",
    "import metric_util\n",
    "import mri_draw_utils as mrd\n",
    "import matplotlib.gridspec as gridspec\n",
    "from nilearn import plotting\n",
    "import tensor_util as tu\n",
    "\n"
   ]
  },
  {
   "cell_type": "code",
   "execution_count": null,
   "metadata": {},
   "outputs": [],
   "source": [
    "import spike_detection as sp"
   ]
  },
  {
   "cell_type": "code",
   "execution_count": null,
   "metadata": {},
   "outputs": [],
   "source": [
    "subject_scan_path = du.get_full_path_subject1()"
   ]
  },
  {
   "cell_type": "code",
   "execution_count": null,
   "metadata": {},
   "outputs": [],
   "source": [
    "spike_thre = 4"
   ]
  },
  {
   "cell_type": "code",
   "execution_count": null,
   "metadata": {},
   "outputs": [],
   "source": [
    "title = \"Slise-wise 4D fMRI Spikes in a Fourier Space at the extremes above Z-Score \" + '$ >$' + str(spike_thre)"
   ]
  },
  {
   "cell_type": "code",
   "execution_count": null,
   "metadata": {},
   "outputs": [],
   "source": [
    "mrd.draw_spikes(subject_scan_path, title, \"/work/str/fft\", spike_thre = 4.)"
   ]
  },
  {
   "cell_type": "code",
   "execution_count": null,
   "metadata": {},
   "outputs": [],
   "source": [
    "def plot_slice_tern(in_fft, tr, z_score, outer_grid, fig, z,\n",
    "                  cmap='Greys_r'):\n",
    "    \n",
    "    inner_grid = gridspec.GridSpecFromSubplotSpec(1, 3,\n",
    "            subplot_spec=outer_grid, wspace=0.0, hspace=0.0)\n",
    "    \n",
    "    main_ax = fig.add_subplot(inner_grid[0, 0])\n",
    "    main_ax.set_aspect('equal')\n",
    "    \n",
    "    fg_color = 'white'\n",
    "    bg_color = 'black'\n",
    "    \n",
    "    title = \"TR = \" + str(tr) + \" z = \" + str(z)\n",
    "    main_ax.set_title(title, color=fg_color, fontweight='normal', fontsize=8)  \n",
    "    \n",
    "    prev_spike_tr_img, prev_spike_zscored_overlay_img = mrd.get_prev_tr_img_with_overlay(in_fft, tr, z_score)\n",
    "    \n",
    "    if  prev_spike_tr_img is not None:\n",
    "        prev_spike_img = plotting.plot_img( prev_spike_tr_img, figure= fig, axes = main_ax, display_mode='z', \n",
    "                                            bg_img=None,black_bg=True, \n",
    "                                            cmap=cmap, cut_coords=[z])\n",
    "        prev_spike_img.add_contours(prev_spike_zscored_overlay_img, \n",
    "                                    levels=[0.5], filled=True, alpha=0.8, colors='r')\n",
    "        \n",
    "    curr_tr_ax = fig.add_subplot(inner_grid[0, 1], sharey=main_ax)\n",
    "    \n",
    "    curr_tr_spike_tr_img, curr_tr_spike_zscored_overlay_img = mrd.get_spiked_tr_img_with_overlay(in_fft, tr, z_score)\n",
    "    \n",
    "    curr_img = plotting.plot_img(curr_tr_spike_tr_img, figure= fig, axes = curr_tr_ax, display_mode='z', \n",
    "                                            bg_img=None,black_bg=True, \n",
    "                                            cmap=cmap, cut_coords=[z])\n",
    "    \n",
    "    curr_img.add_contours(curr_tr_spike_zscored_overlay_img, \n",
    "                                    levels=[0.5], filled=True, alpha=0.8, colors='r')\n",
    "    \n",
    "    post_tr_ax = fig.add_subplot(inner_grid[0, 2], sharey=main_ax)\n",
    "    \n",
    "    post_spike_tr_img, post_spike_zscored_overlay_img = mrd.get_post_tr_img_with_overlay(in_fft, tr, z_score)\n",
    "    \n",
    "    if  post_spike_tr_img is not None:\n",
    "        post_spike_img = plotting.plot_img( post_spike_tr_img, figure= fig, axes = post_tr_ax, display_mode='z', \n",
    "                                            bg_img=None,black_bg=True, \n",
    "                                            cmap=cmap, cut_coords=[z])\n",
    "        post_spike_img.add_contours(post_spike_zscored_overlay_img, \n",
    "                                    levels=[0.5], filled=True, alpha=0.8, colors='r')\n",
    "    \n",
    "\n",
    "def draw_spikes(path_func, plot_title, folder, spike_thre = 4.):\n",
    "    n_spikes, out_spikes, out_fft, spikes_list = sp.slice_wise_fft(path_func, folder, spike_thres=spike_thre, out_prefix = 'subject')\n",
    "\n",
    "    fig = plt.figure(frameon = False, figsize=(10,10))\n",
    "    fig.set_size_inches(7, 7)\n",
    "    cols=3\n",
    "    \n",
    "    fg_color = 'white'\n",
    "    bg_color = 'black'\n",
    "    \n",
    "    if plot_title:\n",
    "        fig.suptitle(plot_title, color=fg_color, fontweight='normal', fontsize=11)\n",
    "    \n",
    "    if len(spikes_list) > cols * 7:\n",
    "        cols += 1\n",
    "        \n",
    "    nspikes = len(spikes_list)\n",
    "    rows = 1\n",
    "    if nspikes > cols:\n",
    "        rows = math.ceil(nspikes / cols)\n",
    "        \n",
    "    print cols, rows\n",
    "    fig = plt.figure(figsize=(int(7 * cols), int(5 * rows)))\n",
    "    outer_grid = gridspec.GridSpec(int(rows), int(cols), hspace=0.2, wspace=0.2)\n",
    "    \n",
    "    for i, (t, z) in enumerate(spikes_list):\n",
    "            subplot_spec = outer_grid[i]\n",
    "            print i\n",
    "            plot_slice_tern(out_fft, t, spike_thre, subplot_spec, fig, z,\n",
    "                  cmap='Greys_r')"
   ]
  },
  {
   "cell_type": "code",
   "execution_count": null,
   "metadata": {},
   "outputs": [],
   "source": [
    "draw_spikes(subject_scan_path, \"Test\", None, spike_thre = 4.)"
   ]
  },
  {
   "cell_type": "code",
   "execution_count": null,
   "metadata": {},
   "outputs": [],
   "source": [
    "n_spikes, out_spikes, out_fft, spikes_list = sp.slice_wise_fft(subject_scan_path, None, spike_thres=4.0, out_prefix = 'subject')"
   ]
  },
  {
   "cell_type": "code",
   "execution_count": null,
   "metadata": {},
   "outputs": [],
   "source": [
    "prev_spike_tr_img, prev_spike_zscored_overlay_img = mrd.get_prev_tr_img_with_overlay(out_fft, 39, 4.0)"
   ]
  },
  {
   "cell_type": "code",
   "execution_count": null,
   "metadata": {},
   "outputs": [],
   "source": [
    "print prev_spike_tr_img"
   ]
  },
  {
   "cell_type": "code",
   "execution_count": null,
   "metadata": {},
   "outputs": [],
   "source": [
    "print prev_spike_zscored_overlay_img"
   ]
  },
  {
   "cell_type": "code",
   "execution_count": null,
   "metadata": {},
   "outputs": [],
   "source": [
    "def get_post_tr_img_with_overlay(in_fft, tr, z_score):\n",
    "    data = np.array(in_fft.get_data())\n",
    "    \n",
    "    post_spike_tr_img = None\n",
    "    post_spike_zscored_overlay_img = None\n",
    "    \n",
    "    ntpoints = data.shape[-1]\n",
    "    if tr < (ntpoints - 1):\n",
    "        post_spike_tr_img, post_spike_zscored_overlay_img = get_spiked_tr_img_with_overlay(in_fft, tr + 1, z_score)"
   ]
  },
  {
   "cell_type": "code",
   "execution_count": null,
   "metadata": {},
   "outputs": [],
   "source": [
    "get_post_tr_img_with_overlay(out_fft, 39, 4.0)"
   ]
  },
  {
   "cell_type": "code",
   "execution_count": null,
   "metadata": {},
   "outputs": [],
   "source": [
    "print out_fft"
   ]
  },
  {
   "cell_type": "code",
   "execution_count": null,
   "metadata": {},
   "outputs": [],
   "source": []
  }
 ],
 "metadata": {
  "kernelspec": {
   "display_name": "Python 2",
   "language": "python",
   "name": "python2"
  },
  "language_info": {
   "codemirror_mode": {
    "name": "ipython",
    "version": 2
   },
   "file_extension": ".py",
   "mimetype": "text/x-python",
   "name": "python",
   "nbconvert_exporter": "python",
   "pygments_lexer": "ipython2",
   "version": "2.7.13"
  }
 },
 "nbformat": 4,
 "nbformat_minor": 2
}
