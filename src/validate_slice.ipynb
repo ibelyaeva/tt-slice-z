{
 "cells": [
  {
   "cell_type": "code",
   "execution_count": 61,
   "metadata": {},
   "outputs": [],
   "source": [
    "import nilearn\n",
    "\n",
    "from nilearn import image\n",
    "import nibabel as nib\n",
    "import copy\n",
    "from nilearn import plotting\n",
    "import os\n",
    "import numpy as np\n",
    "import matplotlib.pyplot as plt\n",
    "import matplotlib.gridspec as gridspec\n",
    "import random\n",
    "from math import ceil\n",
    "from nilearn.datasets import MNI152_FILE_PATH\n",
    "from sklearn.model_selection import train_test_split\n",
    "from nibabel.affines import apply_affine\n",
    "from nilearn.image.resampling import coord_transform, get_bounds, get_mask_bounds\n",
    "from nilearn.image import resample_img\n",
    "from nilearn.masking import compute_background_mask\n",
    "from nilearn.masking import compute_epi_mask\n",
    "import metric_util as mt\n",
    "import data_util as du\n",
    "import mri_draw_utils as mrd\n",
    "import ellipsoid_masker as elpm\n",
    "import ellipsoid_mask as em\n",
    "import traceback\n",
    "import random\n",
    "import itertools\n",
    "from random import seed\n",
    "from random import sample\n",
    "from nilearn.image import math_img\n",
    "import tensor_util as tu\n",
    "np.random.seed(0)"
   ]
  },
  {
   "cell_type": "code",
   "execution_count": 32,
   "metadata": {},
   "outputs": [],
   "source": [
    "subject_scan_path = du.get_full_path_subject1()"
   ]
  },
  {
   "cell_type": "code",
   "execution_count": 33,
   "metadata": {},
   "outputs": [],
   "source": [
    "def create_frames(total_scans, start_n, size):\n",
    "\n",
    "    scans = {}     \n",
    "    print (\"total_scans: \" + str(total_scans))\n",
    "    print (\"size: \" + str(size))\n",
    "    count = 0\n",
    "    for ts in range(size):\n",
    "        scans[count] = start_n + ts\n",
    "        print (\"Adding sequential frames: \" + str(\"; Timepoint #: \") + str(ts))\n",
    "        count = count + 1\n",
    "\n",
    "    return scans"
   ]
  },
  {
   "cell_type": "code",
   "execution_count": 34,
   "metadata": {},
   "outputs": [],
   "source": [
    "def generate_structural_missing_pattern(frames_count, start_n, shape):\n",
    "\n",
    "    subject_scan_path = du.get_full_path_subject1()\n",
    "\n",
    "    subj_img  = mt.read_image_abs_path(subject_scan_path)\n",
    "    mask_img = compute_epi_mask(subject_scan_path)\n",
    "\n",
    "    mask_img_data = np.array(mask_img.get_data())\n",
    "    epi_mask = copy.deepcopy(mask_img_data);\n",
    "    n = 0\n",
    "    \n",
    "    corrupted_volumes = {}\n",
    "    corrupted_volumes_list = []\n",
    "    corrupted_volumes_list_scan_numbers = []\n",
    "    ts = create_frames(shape[len(shape) - 1], start_n, frames_count)\n",
    "\n",
    "    for i in ts:\n",
    "        target_img = image.index_img(subject_scan_path,ts[i])\n",
    "        data = copy.deepcopy(target_img.get_data())\n",
    "        data[epi_mask == 1] = 0\n",
    "        masked_image = mt.reconstruct_image_affine(subj_img, data)\n",
    "        corrupted_volumes_list.append(masked_image)\n",
    "        corrupted_volumes[ts[i]] = masked_image\n",
    "        corrupted_volumes_list_scan_numbers.append(ts[i])\n",
    "\n",
    "    counter = 0\n",
    "    \n",
    "\n",
    "    volumes_list = []\n",
    "\n",
    "    counter = 0\n",
    "    \n",
    "    volumes_list = []\n",
    "    for img in image.iter_img(subject_scan_path):\n",
    "        print \"Volume Index: \" + str(counter)\n",
    "        if counter in corrupted_volumes_list_scan_numbers:\n",
    "            print \"Adding corrupted volume to the list \" + str(counter)\n",
    "            volumes_list.append(corrupted_volumes[counter])\n",
    "        else:\n",
    "            print \"Adding normal volume to the list \" + str(counter)\n",
    "            volumes_list.append(img)\n",
    "        counter = counter + 1       \n",
    "\n",
    "    # now generate corrupted 4D from the list\n",
    "    print(\"I am here\")\n",
    "    x_corr_img = image.concat_imgs(volumes_list)\n",
    "    print(\"I am here 2\")\n",
    "    #observed_ratio = mt.compute_observed_ratio(image_masked_by_ellipsoid)\n",
    "    #print (\"Effective Missing Ratio: \" + str(observed_ratio))\n",
    "    return x_corr_img, ts"
   ]
  },
  {
   "cell_type": "code",
   "execution_count": 60,
   "metadata": {},
   "outputs": [],
   "source": [
    "x_true_img  = mt.read_image_abs_path(subject_scan_path)"
   ]
  },
  {
   "cell_type": "code",
   "execution_count": 35,
   "metadata": {},
   "outputs": [
    {
     "name": "stdout",
     "output_type": "stream",
     "text": [
      "total_scans: 144\n",
      "size: 5\n",
      "Adding sequential frames: ; Timepoint #: 0\n",
      "Adding sequential frames: ; Timepoint #: 1\n",
      "Adding sequential frames: ; Timepoint #: 2\n",
      "Adding sequential frames: ; Timepoint #: 3\n",
      "Adding sequential frames: ; Timepoint #: 4\n",
      "Volume Index: 0\n",
      "Adding normal volume to the list 0\n",
      "Volume Index: 1\n",
      "Adding normal volume to the list 1\n",
      "Volume Index: 2\n",
      "Adding normal volume to the list 2\n",
      "Volume Index: 3\n",
      "Adding normal volume to the list 3\n",
      "Volume Index: 4\n",
      "Adding normal volume to the list 4\n",
      "Volume Index: 5\n",
      "Adding normal volume to the list 5\n",
      "Volume Index: 6\n",
      "Adding normal volume to the list 6\n",
      "Volume Index: 7\n",
      "Adding normal volume to the list 7\n",
      "Volume Index: 8\n",
      "Adding normal volume to the list 8\n",
      "Volume Index: 9\n",
      "Adding normal volume to the list 9\n",
      "Volume Index: 10\n",
      "Adding normal volume to the list 10\n",
      "Volume Index: 11\n",
      "Adding normal volume to the list 11\n",
      "Volume Index: 12\n",
      "Adding normal volume to the list 12\n",
      "Volume Index: 13\n",
      "Adding normal volume to the list 13\n",
      "Volume Index: 14\n",
      "Adding normal volume to the list 14\n",
      "Volume Index: 15\n",
      "Adding normal volume to the list 15\n",
      "Volume Index: 16\n",
      "Adding normal volume to the list 16\n",
      "Volume Index: 17\n",
      "Adding normal volume to the list 17\n",
      "Volume Index: 18\n",
      "Adding normal volume to the list 18\n",
      "Volume Index: 19\n",
      "Adding normal volume to the list 19\n",
      "Volume Index: 20\n",
      "Adding normal volume to the list 20\n",
      "Volume Index: 21\n",
      "Adding normal volume to the list 21\n",
      "Volume Index: 22\n",
      "Adding normal volume to the list 22\n",
      "Volume Index: 23\n",
      "Adding normal volume to the list 23\n",
      "Volume Index: 24\n",
      "Adding normal volume to the list 24\n",
      "Volume Index: 25\n",
      "Adding normal volume to the list 25\n",
      "Volume Index: 26\n",
      "Adding normal volume to the list 26\n",
      "Volume Index: 27\n",
      "Adding normal volume to the list 27\n",
      "Volume Index: 28\n",
      "Adding normal volume to the list 28\n",
      "Volume Index: 29\n",
      "Adding normal volume to the list 29\n",
      "Volume Index: 30\n",
      "Adding normal volume to the list 30\n",
      "Volume Index: 31\n",
      "Adding normal volume to the list 31\n",
      "Volume Index: 32\n",
      "Adding normal volume to the list 32\n",
      "Volume Index: 33\n",
      "Adding normal volume to the list 33\n",
      "Volume Index: 34\n",
      "Adding normal volume to the list 34\n",
      "Volume Index: 35\n",
      "Adding normal volume to the list 35\n",
      "Volume Index: 36\n",
      "Adding normal volume to the list 36\n",
      "Volume Index: 37\n",
      "Adding normal volume to the list 37\n",
      "Volume Index: 38\n",
      "Adding normal volume to the list 38\n",
      "Volume Index: 39\n",
      "Adding normal volume to the list 39\n",
      "Volume Index: 40\n",
      "Adding normal volume to the list 40\n",
      "Volume Index: 41\n",
      "Adding normal volume to the list 41\n",
      "Volume Index: 42\n",
      "Adding normal volume to the list 42\n",
      "Volume Index: 43\n",
      "Adding normal volume to the list 43\n",
      "Volume Index: 44\n",
      "Adding normal volume to the list 44\n",
      "Volume Index: 45\n",
      "Adding corrupted volume to the list 45\n",
      "Volume Index: 46\n",
      "Adding corrupted volume to the list 46\n",
      "Volume Index: 47\n",
      "Adding corrupted volume to the list 47\n",
      "Volume Index: 48\n",
      "Adding corrupted volume to the list 48\n",
      "Volume Index: 49\n",
      "Adding corrupted volume to the list 49\n",
      "Volume Index: 50\n",
      "Adding normal volume to the list 50\n",
      "Volume Index: 51\n",
      "Adding normal volume to the list 51\n",
      "Volume Index: 52\n",
      "Adding normal volume to the list 52\n",
      "Volume Index: 53\n",
      "Adding normal volume to the list 53\n",
      "Volume Index: 54\n",
      "Adding normal volume to the list 54\n",
      "Volume Index: 55\n",
      "Adding normal volume to the list 55\n",
      "Volume Index: 56\n",
      "Adding normal volume to the list 56\n",
      "Volume Index: 57\n",
      "Adding normal volume to the list 57\n",
      "Volume Index: 58\n",
      "Adding normal volume to the list 58\n",
      "Volume Index: 59\n",
      "Adding normal volume to the list 59\n",
      "Volume Index: 60\n",
      "Adding normal volume to the list 60\n",
      "Volume Index: 61\n",
      "Adding normal volume to the list 61\n",
      "Volume Index: 62\n",
      "Adding normal volume to the list 62\n",
      "Volume Index: 63\n",
      "Adding normal volume to the list 63\n",
      "Volume Index: 64\n",
      "Adding normal volume to the list 64\n",
      "Volume Index: 65\n",
      "Adding normal volume to the list 65\n",
      "Volume Index: 66\n",
      "Adding normal volume to the list 66\n",
      "Volume Index: 67\n",
      "Adding normal volume to the list 67\n",
      "Volume Index: 68\n",
      "Adding normal volume to the list 68\n",
      "Volume Index: 69\n",
      "Adding normal volume to the list 69\n",
      "Volume Index: 70\n",
      "Adding normal volume to the list 70\n",
      "Volume Index: 71\n",
      "Adding normal volume to the list 71\n",
      "Volume Index: 72\n",
      "Adding normal volume to the list 72\n",
      "Volume Index: 73\n",
      "Adding normal volume to the list 73\n",
      "Volume Index: 74\n",
      "Adding normal volume to the list 74\n",
      "Volume Index: 75\n",
      "Adding normal volume to the list 75\n",
      "Volume Index: 76\n",
      "Adding normal volume to the list 76\n",
      "Volume Index: 77\n",
      "Adding normal volume to the list 77\n",
      "Volume Index: 78\n",
      "Adding normal volume to the list 78\n",
      "Volume Index: 79\n",
      "Adding normal volume to the list 79\n",
      "Volume Index: 80\n",
      "Adding normal volume to the list 80\n",
      "Volume Index: 81\n",
      "Adding normal volume to the list 81\n",
      "Volume Index: 82\n",
      "Adding normal volume to the list 82\n",
      "Volume Index: 83\n",
      "Adding normal volume to the list 83\n",
      "Volume Index: 84\n",
      "Adding normal volume to the list 84\n",
      "Volume Index: 85\n",
      "Adding normal volume to the list 85\n",
      "Volume Index: 86\n",
      "Adding normal volume to the list 86\n",
      "Volume Index: 87\n",
      "Adding normal volume to the list 87\n",
      "Volume Index: 88\n",
      "Adding normal volume to the list 88\n",
      "Volume Index: 89\n",
      "Adding normal volume to the list 89\n",
      "Volume Index: 90\n",
      "Adding normal volume to the list 90\n",
      "Volume Index: 91\n",
      "Adding normal volume to the list 91\n",
      "Volume Index: 92\n",
      "Adding normal volume to the list 92\n",
      "Volume Index: 93\n",
      "Adding normal volume to the list 93\n",
      "Volume Index: 94\n",
      "Adding normal volume to the list 94\n",
      "Volume Index: 95\n",
      "Adding normal volume to the list 95\n",
      "Volume Index: 96\n",
      "Adding normal volume to the list 96\n",
      "Volume Index: 97\n",
      "Adding normal volume to the list 97\n",
      "Volume Index: 98\n",
      "Adding normal volume to the list 98\n",
      "Volume Index: 99\n",
      "Adding normal volume to the list 99\n",
      "Volume Index: 100\n",
      "Adding normal volume to the list 100\n",
      "Volume Index: 101\n",
      "Adding normal volume to the list 101\n",
      "Volume Index: 102\n",
      "Adding normal volume to the list 102\n",
      "Volume Index: 103\n",
      "Adding normal volume to the list 103\n",
      "Volume Index: 104\n",
      "Adding normal volume to the list 104\n",
      "Volume Index: 105\n",
      "Adding normal volume to the list 105\n",
      "Volume Index: 106\n",
      "Adding normal volume to the list 106\n",
      "Volume Index: 107\n",
      "Adding normal volume to the list 107\n",
      "Volume Index: 108\n",
      "Adding normal volume to the list 108\n",
      "Volume Index: 109\n",
      "Adding normal volume to the list 109\n",
      "Volume Index: 110\n",
      "Adding normal volume to the list 110\n",
      "Volume Index: 111\n",
      "Adding normal volume to the list 111\n",
      "Volume Index: 112\n",
      "Adding normal volume to the list 112\n",
      "Volume Index: 113\n",
      "Adding normal volume to the list 113\n",
      "Volume Index: 114\n",
      "Adding normal volume to the list 114\n",
      "Volume Index: 115\n",
      "Adding normal volume to the list 115\n",
      "Volume Index: 116\n",
      "Adding normal volume to the list 116\n",
      "Volume Index: 117\n",
      "Adding normal volume to the list 117\n",
      "Volume Index: 118\n",
      "Adding normal volume to the list 118\n",
      "Volume Index: 119\n",
      "Adding normal volume to the list 119\n",
      "Volume Index: 120\n",
      "Adding normal volume to the list 120\n",
      "Volume Index: 121\n",
      "Adding normal volume to the list 121\n",
      "Volume Index: 122\n",
      "Adding normal volume to the list 122\n",
      "Volume Index: 123\n",
      "Adding normal volume to the list 123\n",
      "Volume Index: 124\n",
      "Adding normal volume to the list 124\n",
      "Volume Index: 125\n",
      "Adding normal volume to the list 125\n",
      "Volume Index: 126\n",
      "Adding normal volume to the list 126\n",
      "Volume Index: 127\n",
      "Adding normal volume to the list 127\n",
      "Volume Index: 128\n",
      "Adding normal volume to the list 128\n",
      "Volume Index: 129\n",
      "Adding normal volume to the list 129\n",
      "Volume Index: 130\n",
      "Adding normal volume to the list 130\n",
      "Volume Index: 131\n",
      "Adding normal volume to the list 131\n",
      "Volume Index: 132\n",
      "Adding normal volume to the list 132\n",
      "Volume Index: 133\n",
      "Adding normal volume to the list 133\n",
      "Volume Index: 134\n",
      "Adding normal volume to the list 134\n",
      "Volume Index: 135\n",
      "Adding normal volume to the list 135\n",
      "Volume Index: 136\n",
      "Adding normal volume to the list 136\n",
      "Volume Index: 137\n",
      "Adding normal volume to the list 137\n",
      "Volume Index: 138\n",
      "Adding normal volume to the list 138\n",
      "Volume Index: 139\n",
      "Adding normal volume to the list 139\n",
      "Volume Index: 140\n",
      "Adding normal volume to the list 140\n",
      "Volume Index: 141\n",
      "Adding normal volume to the list 141\n",
      "Volume Index: 142\n",
      "Adding normal volume to the list 142\n",
      "Volume Index: 143\n",
      "Adding normal volume to the list 143\n",
      "I am here\n",
      "I am here 2\n"
     ]
    }
   ],
   "source": [
    "x_mask_img, random_ts = generate_structural_missing_pattern(5, 45,[53, 63, 46, 144])"
   ]
  },
  {
   "cell_type": "code",
   "execution_count": 36,
   "metadata": {},
   "outputs": [
    {
     "data": {
      "text/plain": [
       "{0: 45, 1: 46, 2: 47, 3: 48, 4: 49}"
      ]
     },
     "execution_count": 36,
     "metadata": {},
     "output_type": "execute_result"
    }
   ],
   "source": [
    "random_ts"
   ]
  },
  {
   "cell_type": "code",
   "execution_count": 37,
   "metadata": {},
   "outputs": [
    {
     "data": {
      "image/png": "[encoded data removed]",
      "text/plain": [
       "<matplotlib.figure.Figure at 0x12f2fe750>"
      ]
     },
     "metadata": {},
     "output_type": "display_data"
    }
   ],
   "source": [
    "x_miss_image = plotting.plot_epi(image.index_img(x_mask_img, 50), bg_img=None,black_bg=True, cmap='jet') "
   ]
  },
  {
   "cell_type": "code",
   "execution_count": 38,
   "metadata": {},
   "outputs": [],
   "source": [
    "subject_scan_path = du.get_full_path_subject1()"
   ]
  },
  {
   "cell_type": "code",
   "execution_count": 39,
   "metadata": {},
   "outputs": [],
   "source": [
    " mask_img = compute_epi_mask(subject_scan_path)"
   ]
  },
  {
   "cell_type": "code",
   "execution_count": 40,
   "metadata": {},
   "outputs": [
    {
     "data": {
      "text/plain": [
       "<nilearn.plotting.displays.OrthoSlicer at 0x1319515d0>"
      ]
     },
     "execution_count": 40,
     "metadata": {},
     "output_type": "execute_result"
    },
    {
     "data": {
      "image/png": "[encoded data removed]",
      "text/plain": [
       "<matplotlib.figure.Figure at 0x132ef1250>"
      ]
     },
     "metadata": {},
     "output_type": "display_data"
    }
   ],
   "source": [
    "from nilearn.plotting import plot_roi\n",
    "plotting.plot_roi(mask_img)"
   ]
  },
  {
   "cell_type": "code",
   "execution_count": 41,
   "metadata": {},
   "outputs": [],
   "source": [
    "mask_img_data = np.array(mask_img.get_data())"
   ]
  },
  {
   "cell_type": "code",
   "execution_count": 42,
   "metadata": {},
   "outputs": [
    {
     "data": {
      "text/plain": [
       "array([[[0, 0, 0, ..., 0, 0, 0],\n",
       "        [0, 0, 0, ..., 0, 0, 0],\n",
       "        [0, 0, 0, ..., 0, 0, 0],\n",
       "        ...,\n",
       "        [0, 0, 0, ..., 0, 0, 0],\n",
       "        [0, 0, 0, ..., 0, 0, 0],\n",
       "        [0, 0, 0, ..., 0, 0, 0]],\n",
       "\n",
       "       [[0, 0, 0, ..., 0, 0, 0],\n",
       "        [0, 0, 0, ..., 0, 0, 0],\n",
       "        [0, 0, 0, ..., 0, 0, 0],\n",
       "        ...,\n",
       "        [0, 0, 0, ..., 0, 0, 0],\n",
       "        [0, 0, 0, ..., 0, 0, 0],\n",
       "        [0, 0, 0, ..., 0, 0, 0]],\n",
       "\n",
       "       [[0, 0, 0, ..., 0, 0, 0],\n",
       "        [0, 0, 0, ..., 0, 0, 0],\n",
       "        [0, 0, 0, ..., 0, 0, 0],\n",
       "        ...,\n",
       "        [0, 0, 0, ..., 0, 0, 0],\n",
       "        [0, 0, 0, ..., 0, 0, 0],\n",
       "        [0, 0, 0, ..., 0, 0, 0]],\n",
       "\n",
       "       ...,\n",
       "\n",
       "       [[0, 0, 0, ..., 0, 0, 0],\n",
       "        [0, 0, 0, ..., 0, 0, 0],\n",
       "        [0, 0, 0, ..., 0, 0, 0],\n",
       "        ...,\n",
       "        [0, 0, 0, ..., 0, 0, 0],\n",
       "        [0, 0, 0, ..., 0, 0, 0],\n",
       "        [0, 0, 0, ..., 0, 0, 0]],\n",
       "\n",
       "       [[0, 0, 0, ..., 0, 0, 0],\n",
       "        [0, 0, 0, ..., 0, 0, 0],\n",
       "        [0, 0, 0, ..., 0, 0, 0],\n",
       "        ...,\n",
       "        [0, 0, 0, ..., 0, 0, 0],\n",
       "        [0, 0, 0, ..., 0, 0, 0],\n",
       "        [0, 0, 0, ..., 0, 0, 0]],\n",
       "\n",
       "       [[0, 0, 0, ..., 0, 0, 0],\n",
       "        [0, 0, 0, ..., 0, 0, 0],\n",
       "        [0, 0, 0, ..., 0, 0, 0],\n",
       "        ...,\n",
       "        [0, 0, 0, ..., 0, 0, 0],\n",
       "        [0, 0, 0, ..., 0, 0, 0],\n",
       "        [0, 0, 0, ..., 0, 0, 0]]], dtype=int8)"
      ]
     },
     "execution_count": 42,
     "metadata": {},
     "output_type": "execute_result"
    }
   ],
   "source": [
    "mask_img_data"
   ]
  },
  {
   "cell_type": "code",
   "execution_count": 43,
   "metadata": {},
   "outputs": [
    {
     "data": {
      "text/plain": [
       "<nilearn.plotting.displays.OrthoSlicer at 0x131acf110>"
      ]
     },
     "execution_count": 43,
     "metadata": {},
     "output_type": "execute_result"
    },
    {
     "data": {
      "image/png": "[encoded data removed]",
      "text/plain": [
       "<matplotlib.figure.Figure at 0x132e55c50>"
      ]
     },
     "metadata": {},
     "output_type": "display_data"
    }
   ],
   "source": [
    "plotting.plot_epi(mask_img, bg_img=None,black_bg=True, cmap='jet')"
   ]
  },
  {
   "cell_type": "code",
   "execution_count": 44,
   "metadata": {},
   "outputs": [],
   "source": [
    "x_true_img = mt.read_image_abs_path(subject_scan_path)\n",
    "\n"
   ]
  },
  {
   "cell_type": "code",
   "execution_count": 45,
   "metadata": {},
   "outputs": [],
   "source": [
    "mean_img = image.mean_img(x_mask_img)"
   ]
  },
  {
   "cell_type": "code",
   "execution_count": 46,
   "metadata": {},
   "outputs": [
    {
     "data": {
      "text/plain": [
       "<nilearn.plotting.displays.OrthoSlicer at 0x139c88fd0>"
      ]
     },
     "execution_count": 46,
     "metadata": {},
     "output_type": "execute_result"
    },
    {
     "data": {
      "image/png": "[encoded data removed]",
      "text/plain": [
       "<matplotlib.figure.Figure at 0x13360dfd0>"
      ]
     },
     "metadata": {},
     "output_type": "display_data"
    }
   ],
   "source": [
    "plotting.plot_epi(mean_img, bg_img=None,black_bg=True, cmap='jet')"
   ]
  },
  {
   "cell_type": "code",
   "execution_count": 47,
   "metadata": {},
   "outputs": [
    {
     "data": {
      "text/plain": [
       "<nibabel.nifti1.Nifti1Image at 0x1341d1690>"
      ]
     },
     "execution_count": 47,
     "metadata": {},
     "output_type": "execute_result"
    }
   ],
   "source": [
    "mean_img"
   ]
  },
  {
   "cell_type": "code",
   "execution_count": 48,
   "metadata": {},
   "outputs": [
    {
     "name": "stdout",
     "output_type": "stream",
     "text": [
      "<class 'nibabel.nifti1.Nifti1Image'>\n",
      "data shape (53, 63, 46)\n",
      "affine: \n",
      "[[  -3.    0.    0.   78.]\n",
      " [   0.    3.    0. -111.]\n",
      " [   0.    0.    3.  -51.]\n",
      " [   0.    0.    0.    1.]]\n",
      "metadata:\n",
      "<class 'nibabel.nifti1.Nifti1Header'> object, endian='<'\n",
      "sizeof_hdr      : 348\n",
      "data_type       : \n",
      "db_name         : \n",
      "extents         : 0\n",
      "session_error   : 0\n",
      "regular         : \n",
      "dim_info        : 0\n",
      "dim             : [ 3 53 63 46  1  1  1  1]\n",
      "intent_p1       : 0.0\n",
      "intent_p2       : 0.0\n",
      "intent_p3       : 0.0\n",
      "intent_code     : none\n",
      "datatype        : float32\n",
      "bitpix          : 32\n",
      "slice_start     : 0\n",
      "pixdim          : [-1.  3.  3.  3.  1.  1.  1.  1.]\n",
      "vox_offset      : 0.0\n",
      "scl_slope       : nan\n",
      "scl_inter       : nan\n",
      "slice_end       : 0\n",
      "slice_code      : unknown\n",
      "xyzt_units      : 0\n",
      "cal_max         : 0.0\n",
      "cal_min         : 0.0\n",
      "slice_duration  : 0.0\n",
      "toffset         : 0.0\n",
      "glmax           : 0\n",
      "glmin           : 0\n",
      "descrip         : \n",
      "aux_file        : \n",
      "qform_code      : unknown\n",
      "sform_code      : aligned\n",
      "quatern_b       : 0.0\n",
      "quatern_c       : 1.0\n",
      "quatern_d       : 0.0\n",
      "qoffset_x       : 78.0\n",
      "qoffset_y       : -111.0\n",
      "qoffset_z       : -51.0\n",
      "srow_x          : [-3.  0.  0. 78.]\n",
      "srow_y          : [   0.    3.    0. -111.]\n",
      "srow_z          : [  0.   0.   3. -51.]\n",
      "intent_name     : \n",
      "magic           : n+1\n"
     ]
    }
   ],
   "source": [
    "print mean_img"
   ]
  },
  {
   "cell_type": "code",
   "execution_count": 49,
   "metadata": {},
   "outputs": [],
   "source": [
    "mean_img = image.mean_img(x_true_img)"
   ]
  },
  {
   "cell_type": "code",
   "execution_count": 50,
   "metadata": {},
   "outputs": [
    {
     "name": "stdout",
     "output_type": "stream",
     "text": [
      "<class 'nibabel.nifti1.Nifti1Image'>\n",
      "data shape (53, 63, 46)\n",
      "affine: \n",
      "[[  -3.    0.    0.   78.]\n",
      " [   0.    3.    0. -111.]\n",
      " [   0.    0.    3.  -51.]\n",
      " [   0.    0.    0.    1.]]\n",
      "metadata:\n",
      "<class 'nibabel.nifti1.Nifti1Header'> object, endian='<'\n",
      "sizeof_hdr      : 348\n",
      "data_type       : \n",
      "db_name         : \n",
      "extents         : 0\n",
      "session_error   : 0\n",
      "regular         : \n",
      "dim_info        : 0\n",
      "dim             : [ 3 53 63 46  1  1  1  1]\n",
      "intent_p1       : 0.0\n",
      "intent_p2       : 0.0\n",
      "intent_p3       : 0.0\n",
      "intent_code     : none\n",
      "datatype        : float32\n",
      "bitpix          : 32\n",
      "slice_start     : 0\n",
      "pixdim          : [-1.  3.  3.  3.  1.  1.  1.  1.]\n",
      "vox_offset      : 0.0\n",
      "scl_slope       : nan\n",
      "scl_inter       : nan\n",
      "slice_end       : 0\n",
      "slice_code      : unknown\n",
      "xyzt_units      : 0\n",
      "cal_max         : 0.0\n",
      "cal_min         : 0.0\n",
      "slice_duration  : 0.0\n",
      "toffset         : 0.0\n",
      "glmax           : 0\n",
      "glmin           : 0\n",
      "descrip         : \n",
      "aux_file        : \n",
      "qform_code      : unknown\n",
      "sform_code      : aligned\n",
      "quatern_b       : 0.0\n",
      "quatern_c       : 1.0\n",
      "quatern_d       : 0.0\n",
      "qoffset_x       : 78.0\n",
      "qoffset_y       : -111.0\n",
      "qoffset_z       : -51.0\n",
      "srow_x          : [-3.  0.  0. 78.]\n",
      "srow_y          : [   0.    3.    0. -111.]\n",
      "srow_z          : [  0.   0.   3. -51.]\n",
      "intent_name     : \n",
      "magic           : n+1\n"
     ]
    }
   ],
   "source": [
    "print mean_img"
   ]
  },
  {
   "cell_type": "code",
   "execution_count": 51,
   "metadata": {},
   "outputs": [
    {
     "name": "stdout",
     "output_type": "stream",
     "text": [
      "<nilearn.plotting.displays.OrthoSlicer object at 0x1336f38d0>\n"
     ]
    }
   ],
   "source": [
    "print x_miss_image"
   ]
  },
  {
   "cell_type": "code",
   "execution_count": 52,
   "metadata": {},
   "outputs": [
    {
     "data": {
      "text/plain": [
       "(53, 63, 46)"
      ]
     },
     "execution_count": 52,
     "metadata": {},
     "output_type": "execute_result"
    }
   ],
   "source": [
    "mean_img.get_data().shape"
   ]
  },
  {
   "cell_type": "code",
   "execution_count": 53,
   "metadata": {},
   "outputs": [],
   "source": [
    "z_scored_image = math_img(\"np.mean(yt)\", yt=x_mask_img)"
   ]
  },
  {
   "cell_type": "code",
   "execution_count": 54,
   "metadata": {},
   "outputs": [
    {
     "name": "stdout",
     "output_type": "stream",
     "text": [
      "<class 'nibabel.nifti1.Nifti1Image'>\n",
      "data shape ()\n",
      "affine: \n",
      "[[  -3.    0.    0.   78.]\n",
      " [   0.    3.    0. -111.]\n",
      " [   0.    0.    3.  -51.]\n",
      " [   0.    0.    0.    1.]]\n",
      "metadata:\n",
      "<class 'nibabel.nifti1.Nifti1Header'> object, endian='<'\n",
      "sizeof_hdr      : 348\n",
      "data_type       : \n",
      "db_name         : \n",
      "extents         : 0\n",
      "session_error   : 0\n",
      "regular         : \n",
      "dim_info        : 0\n",
      "dim             : [0 1 1 1 1 1 1 1]\n",
      "intent_p1       : 0.0\n",
      "intent_p2       : 0.0\n",
      "intent_p3       : 0.0\n",
      "intent_code     : none\n",
      "datatype        : float32\n",
      "bitpix          : 32\n",
      "slice_start     : 0\n",
      "pixdim          : [-1.  3.  3.  3.  1.  1.  1.  1.]\n",
      "vox_offset      : 0.0\n",
      "scl_slope       : nan\n",
      "scl_inter       : nan\n",
      "slice_end       : 0\n",
      "slice_code      : unknown\n",
      "xyzt_units      : 0\n",
      "cal_max         : 0.0\n",
      "cal_min         : 0.0\n",
      "slice_duration  : 0.0\n",
      "toffset         : 0.0\n",
      "glmax           : 0\n",
      "glmin           : 0\n",
      "descrip         : \n",
      "aux_file        : \n",
      "qform_code      : unknown\n",
      "sform_code      : aligned\n",
      "quatern_b       : 0.0\n",
      "quatern_c       : 1.0\n",
      "quatern_d       : 0.0\n",
      "qoffset_x       : 78.0\n",
      "qoffset_y       : -111.0\n",
      "qoffset_z       : -51.0\n",
      "srow_x          : [-3.  0.  0. 78.]\n",
      "srow_y          : [   0.    3.    0. -111.]\n",
      "srow_z          : [  0.   0.   3. -51.]\n",
      "intent_name     : \n",
      "magic           : n+1\n"
     ]
    }
   ],
   "source": [
    "print z_scored_image"
   ]
  },
  {
   "cell_type": "code",
   "execution_count": null,
   "metadata": {},
   "outputs": [],
   "source": []
  },
  {
   "cell_type": "code",
   "execution_count": 55,
   "metadata": {},
   "outputs": [
    {
     "name": "stdout",
     "output_type": "stream",
     "text": [
      "<class 'nibabel.nifti1.Nifti1Image'>\n",
      "data shape ()\n",
      "affine: \n",
      "[[  -3.    0.    0.   78.]\n",
      " [   0.    3.    0. -111.]\n",
      " [   0.    0.    3.  -51.]\n",
      " [   0.    0.    0.    1.]]\n",
      "metadata:\n",
      "<class 'nibabel.nifti1.Nifti1Header'> object, endian='<'\n",
      "sizeof_hdr      : 348\n",
      "data_type       : \n",
      "db_name         : \n",
      "extents         : 0\n",
      "session_error   : 0\n",
      "regular         : \n",
      "dim_info        : 0\n",
      "dim             : [0 1 1 1 1 1 1 1]\n",
      "intent_p1       : 0.0\n",
      "intent_p2       : 0.0\n",
      "intent_p3       : 0.0\n",
      "intent_code     : none\n",
      "datatype        : float32\n",
      "bitpix          : 32\n",
      "slice_start     : 0\n",
      "pixdim          : [-1.  3.  3.  3.  1.  1.  1.  1.]\n",
      "vox_offset      : 0.0\n",
      "scl_slope       : nan\n",
      "scl_inter       : nan\n",
      "slice_end       : 0\n",
      "slice_code      : unknown\n",
      "xyzt_units      : 0\n",
      "cal_max         : 0.0\n",
      "cal_min         : 0.0\n",
      "slice_duration  : 0.0\n",
      "toffset         : 0.0\n",
      "glmax           : 0\n",
      "glmin           : 0\n",
      "descrip         : \n",
      "aux_file        : \n",
      "qform_code      : unknown\n",
      "sform_code      : aligned\n",
      "quatern_b       : 0.0\n",
      "quatern_c       : 1.0\n",
      "quatern_d       : 0.0\n",
      "qoffset_x       : 78.0\n",
      "qoffset_y       : -111.0\n",
      "qoffset_z       : -51.0\n",
      "srow_x          : [-3.  0.  0. 78.]\n",
      "srow_y          : [   0.    3.    0. -111.]\n",
      "srow_z          : [  0.   0.   3. -51.]\n",
      "intent_name     : \n",
      "magic           : n+1\n"
     ]
    }
   ],
   "source": [
    "print z_scored_image"
   ]
  },
  {
   "cell_type": "code",
   "execution_count": null,
   "metadata": {},
   "outputs": [],
   "source": []
  },
  {
   "cell_type": "code",
   "execution_count": null,
   "metadata": {},
   "outputs": [],
   "source": []
  },
  {
   "cell_type": "code",
   "execution_count": null,
   "metadata": {},
   "outputs": [],
   "source": []
  },
  {
   "cell_type": "code",
   "execution_count": null,
   "metadata": {},
   "outputs": [],
   "source": []
  },
  {
   "cell_type": "code",
   "execution_count": null,
   "metadata": {},
   "outputs": [],
   "source": [
    "img = image.index_img(masked_image_data, 46) = image.index_img(masked_image_data, 51)"
   ]
  },
  {
   "cell_type": "code",
   "execution_count": null,
   "metadata": {},
   "outputs": [],
   "source": [
    "mean_img = math_img(\"(np.mean(yt))\", yt=self.x_miss_img)\n",
    "mean_img_data = np.array(mean_img.get_data())"
   ]
  },
  {
   "cell_type": "code",
   "execution_count": null,
   "metadata": {},
   "outputs": [],
   "source": [
    "img = image.index_img(masked_image_data, 46)"
   ]
  },
  {
   "cell_type": "code",
   "execution_count": null,
   "metadata": {},
   "outputs": [],
   "source": [
    "img = image.index_img(masked_image_data, 51)"
   ]
  },
  {
   "cell_type": "code",
   "execution_count": null,
   "metadata": {},
   "outputs": [],
   "source": [
    "plotting.plot_epi(img, bg_img=None,black_bg=True, cmap='jet')"
   ]
  },
  {
   "cell_type": "code",
   "execution_count": null,
   "metadata": {},
   "outputs": [],
   "source": [
    "def init_mean(x, ts):\n",
    "        \n",
    "        mean_img = image.mean_img(x)\n",
    "        corrupted_volumes_list_scan_numbers = []\n",
    "        replaced_frames = {}\n",
    "        \n",
    "        for i in ts:\n",
    "            mean_frame = mean_img\n",
    "            replaced_frames[i] = mean_frame\n",
    "            print \"Corrupted Frame: \" + str(ts[i])\n",
    "            corrupted_volumes_list_scan_numbers.append(ts[i])\n",
    "        \n",
    "        counter = 0    \n",
    "        volumes_list = []\n",
    "        for img in image.iter_img(x):\n",
    "            print \"Volume Index: \" + str(counter)\n",
    "            if counter in corrupted_volumes_list_scan_numbers:\n",
    "                print \"Adding mean img to the list \" + str(counter)\n",
    "                volumes_list.append(mean_img)\n",
    "            else:\n",
    "                print \"Adding normal volume to the list \" + str(counter)\n",
    "                volumes_list.append(img)\n",
    "            counter = counter + 1\n",
    "        \n",
    "        x_init_img = image.concat_imgs(volumes_list)\n",
    "        return x_init_img"
   ]
  },
  {
   "cell_type": "code",
   "execution_count": null,
   "metadata": {},
   "outputs": [],
   "source": [
    "updated_volume = init_mean(x_mask_img, random_ts)"
   ]
  },
  {
   "cell_type": "code",
   "execution_count": null,
   "metadata": {},
   "outputs": [],
   "source": [
    "x_miss_image_45 = plotting.plot_epi(image.index_img(updated_volume, 49), bg_img=None,black_bg=True, cmap='jet') "
   ]
  },
  {
   "cell_type": "code",
   "execution_count": null,
   "metadata": {},
   "outputs": [],
   "source": [
    "total_time = 144\n",
    "tr=2"
   ]
  },
  {
   "cell_type": "code",
   "execution_count": null,
   "metadata": {},
   "outputs": [],
   "source": [
    "timepoints = list(range(0, total_time, int(tr)))"
   ]
  },
  {
   "cell_type": "code",
   "execution_count": null,
   "metadata": {},
   "outputs": [],
   "source": [
    "timepoints"
   ]
  },
  {
   "cell_type": "code",
   "execution_count": null,
   "metadata": {},
   "outputs": [],
   "source": [
    "stimfunc = np.zeros((int(total_time / tr), 1))"
   ]
  },
  {
   "cell_type": "code",
   "execution_count": null,
   "metadata": {},
   "outputs": [],
   "source": [
    "stimfunc"
   ]
  },
  {
   "cell_type": "code",
   "execution_count": null,
   "metadata": {},
   "outputs": [],
   "source": [
    "stimfunc[np.random.randint(0, int(total_time / tr), 1)] = 1"
   ]
  },
  {
   "cell_type": "code",
   "execution_count": null,
   "metadata": {},
   "outputs": [],
   "source": [
    "stimfunc.shape"
   ]
  },
  {
   "cell_type": "code",
   "execution_count": null,
   "metadata": {},
   "outputs": [],
   "source": [
    "stimfunc"
   ]
  },
  {
   "cell_type": "code",
   "execution_count": null,
   "metadata": {},
   "outputs": [],
   "source": [
    "from scipy import stats\n",
    "def _generate_noise_temporal_task(stimfunction_tr,\n",
    "                                  motion_noise='gaussian',\n",
    "                                  ):\n",
    "    \"\"\"Generate the signal dependent noise\n",
    "    Create noise specific to the signal, for instance there is variability\n",
    "    in how the signal manifests on each event\n",
    "    Parameters\n",
    "    ----------\n",
    "    stimfunction_tr : 1 Dimensional array\n",
    "        This is the timecourse of the stimuli in this experiment,\n",
    "        each element represents a TR\n",
    "    motion_noise : str\n",
    "        What type of noise will you generate? Can be gaussian or rician\n",
    "    Returns\n",
    "    ----------\n",
    "    noise_task : one dimensional array, float\n",
    "        Generates the temporal task noise timecourse\n",
    "    \"\"\"\n",
    "\n",
    "    # Make the noise to be added\n",
    "    stimfunction_tr = stimfunction_tr != 0\n",
    "    if motion_noise == 'gaussian':\n",
    "        noise = stimfunction_tr * np.random.normal(0, 1,\n",
    "                                                   size=stimfunction_tr.shape)\n",
    "    elif motion_noise == 'rician':\n",
    "        noise = stimfunction_tr * stats.rice.rvs(0, 1,\n",
    "                                                 size=stimfunction_tr.shape)\n",
    "\n",
    "    noise_task = stimfunction_tr + noise\n",
    "\n",
    "    # Normalize\n",
    "    noise_task = stats.zscore(noise_task).flatten()\n",
    "\n",
    "    return noise_task"
   ]
  },
  {
   "cell_type": "code",
   "execution_count": null,
   "metadata": {},
   "outputs": [],
   "source": [
    "task = _generate_noise_temporal_task(stimfunc)"
   ]
  },
  {
   "cell_type": "code",
   "execution_count": null,
   "metadata": {},
   "outputs": [],
   "source": [
    "plt.plot(task)\n",
    "plt.axis('off')\n",
    "plt.xlabel('Task')"
   ]
  },
  {
   "cell_type": "code",
   "execution_count": null,
   "metadata": {},
   "outputs": [],
   "source": [
    "task.shape"
   ]
  },
  {
   "cell_type": "code",
   "execution_count": null,
   "metadata": {},
   "outputs": [],
   "source": [
    "import noise_util as nu\n",
    "import spike_detection as sp"
   ]
  },
  {
   "cell_type": "code",
   "execution_count": 62,
   "metadata": {},
   "outputs": [],
   "source": []
  },
  {
   "cell_type": "code",
   "execution_count": 102,
   "metadata": {},
   "outputs": [],
   "source": [
    "#x_true, x_truth_norm = tu.normalize_data(np.array(x_true_img.get_data()))\n",
    "#x_true_img = mt.reconstruct_image_affine(x_true_img, x_true)\n",
    "x_true_img = mt.read_image_abs_path(subject_scan_path)\n",
    "x_true_img_path = \"/work/scratch/tensor_completion/4D/noise/45/x_true_img.nii\"\n",
    "nib.save(x_true_img,x_true_img_path)"
   ]
  },
  {
   "cell_type": "code",
   "execution_count": 185,
   "metadata": {},
   "outputs": [],
   "source": [
    "img45 = image.index_img(x_true_img, 45)"
   ]
  },
  {
   "cell_type": "code",
   "execution_count": 183,
   "metadata": {},
   "outputs": [],
   "source": [
    "im45noised = nu.add_richian_noise(img45, np.array(img45.get_data()), 40)\n",
    "im45noised_img = mt.reconstruct_image_affine(x_true_img, im45noised)\n",
    "img45path = \"/work/scratch/tensor_completion/4D/noise/45/im45noised.nii\"\n",
    "nib.save(im45noised_img,img45path)"
   ]
  },
  {
   "cell_type": "code",
   "execution_count": 184,
   "metadata": {},
   "outputs": [
    {
     "data": {
      "image/png": "[encoded data removed]",
      "text/plain": [
       "<matplotlib.figure.Figure at 0x1353d8b10>"
      ]
     },
     "metadata": {},
     "output_type": "display_data"
    }
   ],
   "source": [
    "im45noised_45 = plotting.plot_epi(im45noised_img, bg_img=None,black_bg=True, cmap='jet') "
   ]
  },
  {
   "cell_type": "code",
   "execution_count": null,
   "metadata": {},
   "outputs": [],
   "source": []
  },
  {
   "cell_type": "code",
   "execution_count": 88,
   "metadata": {},
   "outputs": [],
   "source": [
    "def update_volume(x_img4d, x_img3d, scan_number):\n",
    "        \n",
    "        corrupted_volumes_list_scan_numbers = []\n",
    "        replaced_frames = {}\n",
    "        \n",
    "        counter = 0    \n",
    "        volumes_list = []\n",
    "        for img in image.iter_img(x_img4d):\n",
    "            print \"Volume Index: \" + str(counter)\n",
    "            if counter == scan_number:\n",
    "                print \"Adding corrupted volume to the list \" + str(counter)\n",
    "                volumes_list.append(x_img3d)\n",
    "            else:\n",
    "                print \"Adding normal volume to the list \" + str(counter)\n",
    "                volumes_list.append(img)\n",
    "            counter = counter + 1\n",
    "        \n",
    "        x_img = image.concat_imgs(volumes_list)\n",
    "        return x_img"
   ]
  },
  {
   "cell_type": "code",
   "execution_count": null,
   "metadata": {},
   "outputs": [],
   "source": []
  },
  {
   "cell_type": "code",
   "execution_count": 76,
   "metadata": {},
   "outputs": [],
   "source": [
    "folder = \"/work/scratch/tensor_completion/4D/noise/45/spikes\""
   ]
  },
  {
   "cell_type": "code",
   "execution_count": 97,
   "metadata": {},
   "outputs": [
    {
     "name": "stdout",
     "output_type": "stream",
     "text": [
      "((39, 18), 12)\n",
      "((64, 18), 14)\n",
      "((125, 6), 56)\n",
      "((125, 7), 364)\n",
      "((125, 8), 284)\n",
      "((129, 15), 20)\n"
     ]
    },
    {
     "data": {
      "text/plain": [
       "(6,\n",
       " '/work/scratch/tensor_completion/4D/noise/45/spikes/subject_spikes.tsv',\n",
       " '/apps/git/python/tt-slice/src/subject_zsfft.nii.gz',\n",
       " [(39, 18, 12),\n",
       "  (64, 18, 14),\n",
       "  (125, 6, 56),\n",
       "  (125, 7, 364),\n",
       "  (125, 8, 284),\n",
       "  (129, 15, 20)])"
      ]
     },
     "execution_count": 97,
     "metadata": {},
     "output_type": "execute_result"
    }
   ],
   "source": [
    "sp.slice_wise_fft(subject_scan_path, folder, spike_thres=4.)"
   ]
  },
  {
   "cell_type": "code",
   "execution_count": 200,
   "metadata": {},
   "outputs": [
    {
     "name": "stdout",
     "output_type": "stream",
     "text": [
      "Volume Index: 0\n",
      "Adding normal volume to the list 0\n",
      "Volume Index: 1\n",
      "Adding normal volume to the list 1\n",
      "Volume Index: 2\n",
      "Adding normal volume to the list 2\n",
      "Volume Index: 3\n",
      "Adding normal volume to the list 3\n",
      "Volume Index: 4\n",
      "Adding normal volume to the list 4\n",
      "Volume Index: 5\n",
      "Adding normal volume to the list 5\n",
      "Volume Index: 6\n",
      "Adding normal volume to the list 6\n",
      "Volume Index: 7\n",
      "Adding normal volume to the list 7\n",
      "Volume Index: 8\n",
      "Adding normal volume to the list 8\n",
      "Volume Index: 9\n",
      "Adding normal volume to the list 9\n",
      "Volume Index: 10\n",
      "Adding normal volume to the list 10\n",
      "Volume Index: 11\n",
      "Adding normal volume to the list 11\n",
      "Volume Index: 12\n",
      "Adding normal volume to the list 12\n",
      "Volume Index: 13\n",
      "Adding normal volume to the list 13\n",
      "Volume Index: 14\n",
      "Adding normal volume to the list 14\n",
      "Volume Index: 15\n",
      "Adding normal volume to the list 15\n",
      "Volume Index: 16\n",
      "Adding normal volume to the list 16\n",
      "Volume Index: 17\n",
      "Adding normal volume to the list 17\n",
      "Volume Index: 18\n",
      "Adding normal volume to the list 18\n",
      "Volume Index: 19\n",
      "Adding normal volume to the list 19\n",
      "Volume Index: 20\n",
      "Adding normal volume to the list 20\n",
      "Volume Index: 21\n",
      "Adding normal volume to the list 21\n",
      "Volume Index: 22\n",
      "Adding normal volume to the list 22\n",
      "Volume Index: 23\n",
      "Adding normal volume to the list 23\n",
      "Volume Index: 24\n",
      "Adding normal volume to the list 24\n",
      "Volume Index: 25\n",
      "Adding normal volume to the list 25\n",
      "Volume Index: 26\n",
      "Adding normal volume to the list 26\n",
      "Volume Index: 27\n",
      "Adding normal volume to the list 27\n",
      "Volume Index: 28\n",
      "Adding normal volume to the list 28\n",
      "Volume Index: 29\n",
      "Adding normal volume to the list 29\n",
      "Volume Index: 30\n",
      "Adding normal volume to the list 30\n",
      "Volume Index: 31\n",
      "Adding normal volume to the list 31\n",
      "Volume Index: 32\n",
      "Adding normal volume to the list 32\n",
      "Volume Index: 33\n",
      "Adding normal volume to the list 33\n",
      "Volume Index: 34\n",
      "Adding normal volume to the list 34\n",
      "Volume Index: 35\n",
      "Adding normal volume to the list 35\n",
      "Volume Index: 36\n",
      "Adding normal volume to the list 36\n",
      "Volume Index: 37\n",
      "Adding normal volume to the list 37\n",
      "Volume Index: 38\n",
      "Adding normal volume to the list 38\n",
      "Volume Index: 39\n",
      "Adding normal volume to the list 39\n",
      "Volume Index: 40\n",
      "Adding normal volume to the list 40\n",
      "Volume Index: 41\n",
      "Adding normal volume to the list 41\n",
      "Volume Index: 42\n",
      "Adding normal volume to the list 42\n",
      "Volume Index: 43\n",
      "Adding normal volume to the list 43\n",
      "Volume Index: 44\n",
      "Adding normal volume to the list 44\n",
      "Volume Index: 45\n",
      "Adding corrupted volume to the list 45\n",
      "Volume Index: 46\n",
      "Adding normal volume to the list 46\n",
      "Volume Index: 47\n",
      "Adding normal volume to the list 47\n",
      "Volume Index: 48\n",
      "Adding normal volume to the list 48\n",
      "Volume Index: 49\n",
      "Adding normal volume to the list 49\n",
      "Volume Index: 50\n",
      "Adding normal volume to the list 50\n",
      "Volume Index: 51\n",
      "Adding normal volume to the list 51\n",
      "Volume Index: 52\n",
      "Adding normal volume to the list 52\n",
      "Volume Index: 53\n",
      "Adding normal volume to the list 53\n",
      "Volume Index: 54\n",
      "Adding normal volume to the list 54\n",
      "Volume Index: 55\n",
      "Adding normal volume to the list 55\n",
      "Volume Index: 56\n",
      "Adding normal volume to the list 56\n",
      "Volume Index: 57\n",
      "Adding normal volume to the list 57\n",
      "Volume Index: 58\n",
      "Adding normal volume to the list 58\n",
      "Volume Index: 59\n",
      "Adding normal volume to the list 59\n",
      "Volume Index: 60\n",
      "Adding normal volume to the list 60\n",
      "Volume Index: 61\n",
      "Adding normal volume to the list 61\n",
      "Volume Index: 62\n",
      "Adding normal volume to the list 62\n",
      "Volume Index: 63\n",
      "Adding normal volume to the list 63\n",
      "Volume Index: 64\n",
      "Adding normal volume to the list 64\n",
      "Volume Index: 65\n",
      "Adding normal volume to the list 65\n",
      "Volume Index: 66\n",
      "Adding normal volume to the list 66\n",
      "Volume Index: 67\n",
      "Adding normal volume to the list 67\n",
      "Volume Index: 68\n",
      "Adding normal volume to the list 68\n",
      "Volume Index: 69\n",
      "Adding normal volume to the list 69\n",
      "Volume Index: 70\n",
      "Adding normal volume to the list 70\n",
      "Volume Index: 71\n",
      "Adding normal volume to the list 71\n",
      "Volume Index: 72\n",
      "Adding normal volume to the list 72\n",
      "Volume Index: 73\n",
      "Adding normal volume to the list 73\n",
      "Volume Index: 74\n",
      "Adding normal volume to the list 74\n",
      "Volume Index: 75\n",
      "Adding normal volume to the list 75\n",
      "Volume Index: 76\n",
      "Adding normal volume to the list 76\n",
      "Volume Index: 77\n",
      "Adding normal volume to the list 77\n",
      "Volume Index: 78\n",
      "Adding normal volume to the list 78\n",
      "Volume Index: 79\n",
      "Adding normal volume to the list 79\n",
      "Volume Index: 80\n",
      "Adding normal volume to the list 80\n",
      "Volume Index: 81\n",
      "Adding normal volume to the list 81\n",
      "Volume Index: 82\n",
      "Adding normal volume to the list 82\n",
      "Volume Index: 83\n",
      "Adding normal volume to the list 83\n",
      "Volume Index: 84\n",
      "Adding normal volume to the list 84\n",
      "Volume Index: 85\n",
      "Adding normal volume to the list 85\n",
      "Volume Index: 86\n",
      "Adding normal volume to the list 86\n",
      "Volume Index: 87\n",
      "Adding normal volume to the list 87\n",
      "Volume Index: 88\n",
      "Adding normal volume to the list 88\n",
      "Volume Index: 89\n",
      "Adding normal volume to the list 89\n",
      "Volume Index: 90\n",
      "Adding normal volume to the list 90\n",
      "Volume Index: 91\n",
      "Adding normal volume to the list 91\n",
      "Volume Index: 92\n",
      "Adding normal volume to the list 92\n",
      "Volume Index: 93\n",
      "Adding normal volume to the list 93\n",
      "Volume Index: 94\n",
      "Adding normal volume to the list 94\n",
      "Volume Index: 95\n",
      "Adding normal volume to the list 95\n",
      "Volume Index: 96\n",
      "Adding normal volume to the list 96\n",
      "Volume Index: 97\n",
      "Adding normal volume to the list 97\n",
      "Volume Index: 98\n",
      "Adding normal volume to the list 98\n",
      "Volume Index: 99\n",
      "Adding normal volume to the list 99\n",
      "Volume Index: 100\n",
      "Adding normal volume to the list 100\n",
      "Volume Index: 101\n",
      "Adding normal volume to the list 101\n",
      "Volume Index: 102\n",
      "Adding normal volume to the list 102\n",
      "Volume Index: 103\n",
      "Adding normal volume to the list 103\n",
      "Volume Index: 104\n",
      "Adding normal volume to the list 104\n",
      "Volume Index: 105\n",
      "Adding normal volume to the list 105\n",
      "Volume Index: 106\n",
      "Adding normal volume to the list 106\n",
      "Volume Index: 107\n",
      "Adding normal volume to the list 107\n",
      "Volume Index: 108\n",
      "Adding normal volume to the list 108\n",
      "Volume Index: 109\n",
      "Adding normal volume to the list 109\n",
      "Volume Index: 110\n",
      "Adding normal volume to the list 110\n",
      "Volume Index: 111\n",
      "Adding normal volume to the list 111\n",
      "Volume Index: 112\n",
      "Adding normal volume to the list 112\n",
      "Volume Index: 113\n",
      "Adding normal volume to the list 113\n",
      "Volume Index: 114\n",
      "Adding normal volume to the list 114\n",
      "Volume Index: 115\n",
      "Adding normal volume to the list 115\n",
      "Volume Index: 116\n",
      "Adding normal volume to the list 116\n",
      "Volume Index: 117\n",
      "Adding normal volume to the list 117\n",
      "Volume Index: 118\n",
      "Adding normal volume to the list 118\n",
      "Volume Index: 119\n",
      "Adding normal volume to the list 119\n",
      "Volume Index: 120\n",
      "Adding normal volume to the list 120\n",
      "Volume Index: 121\n",
      "Adding normal volume to the list 121\n",
      "Volume Index: 122\n",
      "Adding normal volume to the list 122\n",
      "Volume Index: 123\n",
      "Adding normal volume to the list 123\n",
      "Volume Index: 124\n",
      "Adding normal volume to the list 124\n",
      "Volume Index: 125\n",
      "Adding normal volume to the list 125\n",
      "Volume Index: 126\n",
      "Adding normal volume to the list 126\n",
      "Volume Index: 127\n",
      "Adding normal volume to the list 127\n",
      "Volume Index: 128\n",
      "Adding normal volume to the list 128\n",
      "Volume Index: 129\n",
      "Adding normal volume to the list 129\n",
      "Volume Index: 130\n",
      "Adding normal volume to the list 130\n",
      "Volume Index: 131\n",
      "Adding normal volume to the list 131\n",
      "Volume Index: 132\n",
      "Adding normal volume to the list 132\n",
      "Volume Index: 133\n",
      "Adding normal volume to the list 133\n",
      "Volume Index: 134\n",
      "Adding normal volume to the list 134\n",
      "Volume Index: 135\n",
      "Adding normal volume to the list 135\n",
      "Volume Index: 136\n",
      "Adding normal volume to the list 136\n",
      "Volume Index: 137\n",
      "Adding normal volume to the list 137\n",
      "Volume Index: 138\n",
      "Adding normal volume to the list 138\n",
      "Volume Index: 139\n",
      "Adding normal volume to the list 139\n",
      "Volume Index: 140\n",
      "Adding normal volume to the list 140\n",
      "Volume Index: 141\n",
      "Adding normal volume to the list 141\n",
      "Volume Index: 142\n",
      "Adding normal volume to the list 142\n",
      "Volume Index: 143\n",
      "Adding normal volume to the list 143\n"
     ]
    }
   ],
   "source": [
    "x_true_updated = update_volume(x_true_img, mask45_img, 45)\n",
    "x_true_updatedpath = \"/work/scratch/tensor_completion/4D/noise/45/x_true_updated_noised.nii\"\n",
    "nib.save(x_true_updated,x_true_updatedpath)"
   ]
  },
  {
   "cell_type": "code",
   "execution_count": null,
   "metadata": {},
   "outputs": [],
   "source": [
    "sp.slice_wise_fft(x_true_img_path, folder, spike_thres=4.)"
   ]
  },
  {
   "cell_type": "code",
   "execution_count": 201,
   "metadata": {},
   "outputs": [
    {
     "name": "stdout",
     "output_type": "stream",
     "text": [
      "((45, 17), 23)\n",
      "((45, 18), 31)\n",
      "((64, 18), 14)\n",
      "((89, 18), 11)\n",
      "((125, 6), 56)\n",
      "((125, 7), 364)\n",
      "((125, 8), 284)\n",
      "((129, 15), 20)\n"
     ]
    },
    {
     "data": {
      "text/plain": [
       "(8,\n",
       " '/work/scratch/tensor_completion/4D/noise/45/spikes/subject_spikes.tsv',\n",
       " '/apps/git/python/tt-slice/src/subject_zsfft.nii.gz',\n",
       " [(45, 17, 23),\n",
       "  (45, 18, 31),\n",
       "  (64, 18, 14),\n",
       "  (89, 18, 11),\n",
       "  (125, 6, 56),\n",
       "  (125, 7, 364),\n",
       "  (125, 8, 284),\n",
       "  (129, 15, 20)])"
      ]
     },
     "execution_count": 201,
     "metadata": {},
     "output_type": "execute_result"
    }
   ],
   "source": [
    "sp.slice_wise_fft(x_true_updatedpath, folder, spike_thres=4.)"
   ]
  },
  {
   "cell_type": "code",
   "execution_count": null,
   "metadata": {},
   "outputs": [],
   "source": []
  },
  {
   "cell_type": "code",
   "execution_count": null,
   "metadata": {},
   "outputs": [],
   "source": [
    "sp.slice_wise_fft(subject_scan_path, folder, spike_thres=4.)"
   ]
  },
  {
   "cell_type": "code",
   "execution_count": 131,
   "metadata": {},
   "outputs": [],
   "source": [
    "im45noised = nu.add_richian_noise(img45, np.array(img45.get_data()), 30)"
   ]
  },
  {
   "cell_type": "code",
   "execution_count": 166,
   "metadata": {},
   "outputs": [],
   "source": [
    "im45noised[:,:,16] = 0"
   ]
  },
  {
   "cell_type": "code",
   "execution_count": 163,
   "metadata": {},
   "outputs": [],
   "source": [
    "im45noised_img = mt.reconstruct_image_affine(x_true_img, im45noised)"
   ]
  },
  {
   "cell_type": "code",
   "execution_count": 165,
   "metadata": {},
   "outputs": [
    {
     "data": {
      "image/png": "[encoded data removed]",
      "text/plain": [
       "<matplotlib.figure.Figure at 0x106801d50>"
      ]
     },
     "metadata": {},
     "output_type": "display_data"
    }
   ],
   "source": [
    "im45noised_45 = plotting.plot_epi(im45noised_img, bg_img=None,black_bg=True, cmap='jet', display_mode='z', cut_coords=[0]) "
   ]
  },
  {
   "cell_type": "code",
   "execution_count": 129,
   "metadata": {},
   "outputs": [
    {
     "data": {
      "text/plain": [
       "array([[0., 0., 0., ..., 0., 0., 0.],\n",
       "       [0., 0., 0., ..., 0., 0., 0.],\n",
       "       [0., 0., 0., ..., 0., 0., 0.],\n",
       "       ...,\n",
       "       [0., 0., 0., ..., 0., 0., 0.],\n",
       "       [0., 0., 0., ..., 0., 0., 0.],\n",
       "       [0., 0., 0., ..., 0., 0., 0.]])"
      ]
     },
     "execution_count": 129,
     "metadata": {},
     "output_type": "execute_result"
    }
   ],
   "source": [
    "im45noised[:,:,0]"
   ]
  },
  {
   "cell_type": "code",
   "execution_count": 144,
   "metadata": {},
   "outputs": [],
   "source": [
    "def get_xyz(i, j, k, epi_img):\n",
    "    M = epi_img.affine[:3, :3]\n",
    "    abc = epi_img.affine[:3, 3]\n",
    "    return M.dot([i, j, k]) + abc"
   ]
  },
  {
   "cell_type": "code",
   "execution_count": 152,
   "metadata": {},
   "outputs": [],
   "source": [
    "def get_ijk(x, y, z, epi_img):\n",
    "    M = epi_img.affine[:3, :3]\n",
    "    abc = epi_img.affine[:3, 3]\n",
    "    invM = np.linalg.inv(M)\n",
    "    return invM.dot([x, y, z]) - abc"
   ]
  },
  {
   "cell_type": "code",
   "execution_count": 153,
   "metadata": {},
   "outputs": [
    {
     "data": {
      "text/plain": [
       "array([-78.33333333, 111.33333333,  51.        ])"
      ]
     },
     "execution_count": 153,
     "metadata": {},
     "output_type": "execute_result"
    }
   ],
   "source": [
    "get_ijk(1, 1, 0, x_true_img)"
   ]
  },
  {
   "cell_type": "code",
   "execution_count": 198,
   "metadata": {},
   "outputs": [
    {
     "data": {
      "text/plain": [
       "array([ 78., -33.,  12.])"
      ]
     },
     "execution_count": 198,
     "metadata": {},
     "output_type": "execute_result"
    }
   ],
   "source": [
    "get_xyz(0, 26, 21, x_true_img)"
   ]
  },
  {
   "cell_type": "code",
   "execution_count": 191,
   "metadata": {},
   "outputs": [],
   "source": [
    "img45 = image.index_img(x_true_img, 45)\n",
    "mask45 = np.array(img45.get_data())"
   ]
  },
  {
   "cell_type": "code",
   "execution_count": 192,
   "metadata": {},
   "outputs": [],
   "source": [
    "mask45[:, :, 17] = 0\n",
    "mask45[:, :, 18] = 0\n",
    "mask45[:, :, 19] = 0\n",
    "mask45[:, :, 20] = 0\n",
    "mask45[:, :, 21] = 0\n",
    "mask45[:, :, 22] = 0"
   ]
  },
  {
   "cell_type": "code",
   "execution_count": 193,
   "metadata": {},
   "outputs": [],
   "source": [
    "mask45_img = mt.reconstruct_image_affine(x_true_img, mask45)"
   ]
  },
  {
   "cell_type": "code",
   "execution_count": 199,
   "metadata": {},
   "outputs": [
    {
     "data": {
      "text/plain": [
       "<nilearn.plotting.displays.ZSlicer at 0x134f501d0>"
      ]
     },
     "execution_count": 199,
     "metadata": {},
     "output_type": "execute_result"
    },
    {
     "data": {
      "image/png": "[encoded data removed]",
      "text/plain": [
       "<matplotlib.figure.Figure at 0x13539b150>"
      ]
     },
     "metadata": {},
     "output_type": "display_data"
    }
   ],
   "source": [
    " plotting.plot_epi(mask45_img, bg_img=None,black_bg=True, cmap='jet', display_mode='z', cut_coords=[15]) "
   ]
  },
  {
   "cell_type": "code",
   "execution_count": 202,
   "metadata": {},
   "outputs": [],
   "source": [
    "mask_indices = np.ones_like(np.array(x_true_updated.get_data()))"
   ]
  },
  {
   "cell_type": "code",
   "execution_count": 203,
   "metadata": {},
   "outputs": [],
   "source": [
    "masked_data = x_true_updated.get_data()"
   ]
  },
  {
   "cell_type": "code",
   "execution_count": 204,
   "metadata": {},
   "outputs": [],
   "source": [
    "mask_indices[masked_data==0] = 0"
   ]
  },
  {
   "cell_type": "code",
   "execution_count": 206,
   "metadata": {},
   "outputs": [
    {
     "data": {
      "text/plain": [
       "20034"
      ]
     },
     "execution_count": 206,
     "metadata": {},
     "output_type": "execute_result"
    }
   ],
   "source": [
    "np.count_nonzero(mask_indices==0)"
   ]
  },
  {
   "cell_type": "code",
   "execution_count": 208,
   "metadata": {},
   "outputs": [],
   "source": [
    "mask_indices_img = mt.reconstruct_image_affine(x_true_img, mask_indices)\n",
    "mask_path = \"/work/scratch/tensor_completion/4D/mask/mask.nii\"\n",
    "nib.save(mask_indices_img,mask_path)"
   ]
  },
  {
   "cell_type": "code",
   "execution_count": null,
   "metadata": {},
   "outputs": [],
   "source": []
  }
 ],
 "metadata": {
  "kernelspec": {
   "display_name": "Python 2",
   "language": "python",
   "name": "python2"
  },
  "language_info": {
   "codemirror_mode": {
    "name": "ipython",
    "version": 2
   },
   "file_extension": ".py",
   "mimetype": "text/x-python",
   "name": "python",
   "nbconvert_exporter": "python",
   "pygments_lexer": "ipython2",
   "version": "2.7.13"
  }
 },
 "nbformat": 4,
 "nbformat_minor": 2
}
